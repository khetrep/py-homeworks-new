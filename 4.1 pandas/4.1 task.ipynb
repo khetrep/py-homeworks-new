{
 "cells": [
  {
   "cell_type": "code",
   "execution_count": 1,
   "metadata": {},
   "outputs": [],
   "source": [
    "import pandas as pd\n",
    "import numpy as np"
   ]
  },
  {
   "cell_type": "code",
   "execution_count": 2,
   "metadata": {},
   "outputs": [],
   "source": [
    "DATA_PATH = '/home/user/netology/names/'"
   ]
  },
  {
   "cell_type": "markdown",
   "metadata": {},
   "source": [
    "Задача №1\n",
    "С использованием Pandas написать функцию, которая загружает указанные года и выводит ТОП-3 популярных имен. Например:\n",
    "```python\n",
    "count_top3([1880]) == ['John', 'William', 'Mary']\n",
    "count_top3([1900, 1950, 2000]) == ['James', 'John', 'Robert']\n",
    "```"
   ]
  },
  {
   "cell_type": "code",
   "execution_count": 3,
   "metadata": {},
   "outputs": [],
   "source": [
    "def count_top3_rows(years):\n",
    "    cols = ['Name','Gender','Count']\n",
    "    names_array = []\n",
    "    for year in years:\n",
    "        names = pd.read_csv('{}yob{}.txt'.format(DATA_PATH, year), names=cols)\n",
    "        names_array.append(names)\n",
    "    names_all = pd.concat(names_array, names=['Year', 'Pos'])\n",
    "    return names_all.groupby('Name').sum().sort_values(by='Count', ascending=False).head(3).reset_index()\n",
    "    \n",
    "def count_top3(years):\n",
    "    top_names = []\n",
    "    count_top3_rows(years).apply(lambda x: top_names.append(x.Name), axis=1)\n",
    "    return top_names"
   ]
  },
  {
   "cell_type": "code",
   "execution_count": 4,
   "metadata": {},
   "outputs": [
    {
     "data": {
      "text/plain": [
       "['John', 'William', 'Mary']"
      ]
     },
     "execution_count": 4,
     "metadata": {},
     "output_type": "execute_result"
    }
   ],
   "source": [
    "count_top3([1880])"
   ]
  },
  {
   "cell_type": "code",
   "execution_count": 5,
   "metadata": {},
   "outputs": [
    {
     "data": {
      "text/plain": [
       "['James', 'John', 'Robert']"
      ]
     },
     "execution_count": 5,
     "metadata": {},
     "output_type": "execute_result"
    }
   ],
   "source": [
    "count_top3([1900, 1950, 2000])"
   ]
  },
  {
   "cell_type": "markdown",
   "metadata": {},
   "source": [
    "Задача №2\n",
    "С использованием Pandas написать функцию, которая возвращает динамику изменения количества имен за указанные года в разрезе полов. Например:\n",
    "```python\n",
    "count_dynamics([1900, 1950, 2000]) == {\n",
    "  'F': [299810, 1713259, 1814922],\n",
    "  'M': [150486, 1790871, 1962744]\n",
    "}\n",
    "```"
   ]
  },
  {
   "cell_type": "code",
   "execution_count": 6,
   "metadata": {},
   "outputs": [],
   "source": [
    "def count_dynamics(years):\n",
    "    cols = ['Name','Gender','Count']\n",
    "    names_count = {\n",
    "        'F':[],\n",
    "        'M':[]\n",
    "    }\n",
    "    for year in years:\n",
    "        names = pd.read_csv('{}yob{}.txt'.format(DATA_PATH, year), names=cols)\n",
    "        names.groupby('Gender').sum().reset_index().apply(lambda x: names_count[x.Gender].append(x.Count), axis=1)\n",
    "    return names_count"
   ]
  },
  {
   "cell_type": "code",
   "execution_count": 7,
   "metadata": {},
   "outputs": [
    {
     "data": {
      "text/plain": [
       "{'F': [299800, 1713151, 1815110], 'M': [150483, 1790549, 1962969]}"
      ]
     },
     "execution_count": 7,
     "metadata": {},
     "output_type": "execute_result"
    }
   ],
   "source": [
    "count_dynamics([1900, 1950, 2000])"
   ]
  }
 ],
 "metadata": {
  "kernelspec": {
   "display_name": "Python 3",
   "language": "python",
   "name": "python3"
  },
  "language_info": {
   "codemirror_mode": {
    "name": "ipython",
    "version": 3
   },
   "file_extension": ".py",
   "mimetype": "text/x-python",
   "name": "python",
   "nbconvert_exporter": "python",
   "pygments_lexer": "ipython3",
   "version": "3.6.5"
  }
 },
 "nbformat": 4,
 "nbformat_minor": 2
}
